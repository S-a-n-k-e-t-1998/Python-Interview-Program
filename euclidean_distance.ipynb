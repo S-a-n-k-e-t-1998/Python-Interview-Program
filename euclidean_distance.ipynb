{
 "cells": [
  {
   "cell_type": "markdown",
   "id": "3576e575",
   "metadata": {},
   "source": [
    "# find the euclidean_distance and manhatten_distance ?"
   ]
  },
  {
   "cell_type": "code",
   "execution_count": 8,
   "id": "47c81b5f",
   "metadata": {},
   "outputs": [],
   "source": [
    "def distance(p1,p2,metrics=\"euclidean_distance\"):\n",
    "    \"\"\" \n",
    "    In this function you find out euclidean_distance and manhatten_distance betwwen the two datapoints.\n",
    "    ---------------------------------------------------------------------------------------------------\n",
    "    p1: 1st datapoint\n",
    "    p2: 2nd datapoint\n",
    "    ------------------------------------------------------------------------------------------------------\n",
    "    metrics :[\"euclidean_distance\",\"manhatten_distance\",\"both\"]\n",
    "        -------------------------------------------------------------\n",
    "        euclidean_distance: np.sqrt((p1[0]-p2[0])**2+(p1[1]-p[1])**2)\n",
    "        --------------------------------------------------------------\n",
    "        manhatten_distance: (abs(p1[0]-p2[0])+abs(p1[1]-p2[1]))\n",
    "    --------------------------------------------------------------------------------------------------------\n",
    "    \"\"\"\n",
    "    import numpy as np\n",
    "    import pandas as pd\n",
    "    import matplotlib.pyplot as plt\n",
    "    \n",
    "    p1=np.array(p1)\n",
    "    p2=np.array(p2)\n",
    "    if metrics==\"manhatten_distance\":\n",
    "        M=abs(p1-p2)\n",
    "        manhatten_distance=M.sum()\n",
    "        result=pd.DataFrame({\"p1\":[p1],\"p2\":[p2],\"Manhatten_distance\":[round(manhatten_distance,2)]})\n",
    "        return result\n",
    "        \n",
    "    elif metrics==\"euclidean_distance\":\n",
    "        euclidean_distance=np.sqrt(((p1-p2)**2).sum())  #2,4 #4,16 #20\n",
    "        result=pd.DataFrame({\"p1\":[p1],\"p2\":[p2],\"Euclidean_distance\":[round(euclidean_distance,2)]}) #f\"euclidean_distance ::: {round(euclidean_distance,2)}\"\n",
    "        return result\n",
    "    else:\n",
    "        M=abs(p1-p2)\n",
    "        manhatten_distance=M.sum()\n",
    "        euclidean_distance=np.sqrt(((p1-p2)**2).sum())\n",
    "        dict1={\"p1\":[p1,p1],\"p2\":[p2,p2],\"metrics\":[\"Euclidean_distance\",\"Manhatten_distance\"],\"Distance\":[round(euclidean_distance,2),round(manhatten_distance,2)]}\n",
    "        result=pd.DataFrame(dict1)\n",
    "        return result"
   ]
  },
  {
   "cell_type": "code",
   "execution_count": 9,
   "id": "999e2e99",
   "metadata": {},
   "outputs": [
    {
     "data": {
      "text/html": [
       "<div>\n",
       "<style scoped>\n",
       "    .dataframe tbody tr th:only-of-type {\n",
       "        vertical-align: middle;\n",
       "    }\n",
       "\n",
       "    .dataframe tbody tr th {\n",
       "        vertical-align: top;\n",
       "    }\n",
       "\n",
       "    .dataframe thead th {\n",
       "        text-align: right;\n",
       "    }\n",
       "</style>\n",
       "<table border=\"1\" class=\"dataframe\">\n",
       "  <thead>\n",
       "    <tr style=\"text-align: right;\">\n",
       "      <th></th>\n",
       "      <th>p1</th>\n",
       "      <th>p2</th>\n",
       "      <th>metrics</th>\n",
       "      <th>Distance</th>\n",
       "    </tr>\n",
       "  </thead>\n",
       "  <tbody>\n",
       "    <tr>\n",
       "      <th>0</th>\n",
       "      <td>[700, 400]</td>\n",
       "      <td>[780, 350]</td>\n",
       "      <td>Euclidean_distance</td>\n",
       "      <td>94.34</td>\n",
       "    </tr>\n",
       "    <tr>\n",
       "      <th>1</th>\n",
       "      <td>[700, 400]</td>\n",
       "      <td>[780, 350]</td>\n",
       "      <td>Manhatten_distance</td>\n",
       "      <td>130.00</td>\n",
       "    </tr>\n",
       "  </tbody>\n",
       "</table>\n",
       "</div>"
      ],
      "text/plain": [
       "           p1          p2             metrics  Distance\n",
       "0  [700, 400]  [780, 350]  Euclidean_distance     94.34\n",
       "1  [700, 400]  [780, 350]  Manhatten_distance    130.00"
      ]
     },
     "execution_count": 9,
     "metadata": {},
     "output_type": "execute_result"
    }
   ],
   "source": [
    "distance([700,400],[780,350],metrics=\"both\")"
   ]
  },
  {
   "cell_type": "code",
   "execution_count": 10,
   "id": "0a9ac53b",
   "metadata": {},
   "outputs": [
    {
     "data": {
      "text/html": [
       "<div>\n",
       "<style scoped>\n",
       "    .dataframe tbody tr th:only-of-type {\n",
       "        vertical-align: middle;\n",
       "    }\n",
       "\n",
       "    .dataframe tbody tr th {\n",
       "        vertical-align: top;\n",
       "    }\n",
       "\n",
       "    .dataframe thead th {\n",
       "        text-align: right;\n",
       "    }\n",
       "</style>\n",
       "<table border=\"1\" class=\"dataframe\">\n",
       "  <thead>\n",
       "    <tr style=\"text-align: right;\">\n",
       "      <th></th>\n",
       "      <th>p1</th>\n",
       "      <th>p2</th>\n",
       "      <th>Manhatten_distance</th>\n",
       "    </tr>\n",
       "  </thead>\n",
       "  <tbody>\n",
       "    <tr>\n",
       "      <th>0</th>\n",
       "      <td>[8, 7]</td>\n",
       "      <td>[5, 4]</td>\n",
       "      <td>6</td>\n",
       "    </tr>\n",
       "  </tbody>\n",
       "</table>\n",
       "</div>"
      ],
      "text/plain": [
       "       p1      p2  Manhatten_distance\n",
       "0  [8, 7]  [5, 4]                   6"
      ]
     },
     "execution_count": 10,
     "metadata": {},
     "output_type": "execute_result"
    }
   ],
   "source": [
    "distance([8,7],[5,4],metrics=\"manhatten_distance\")"
   ]
  },
  {
   "cell_type": "code",
   "execution_count": 11,
   "id": "ee418ff1",
   "metadata": {},
   "outputs": [
    {
     "data": {
      "text/html": [
       "<div>\n",
       "<style scoped>\n",
       "    .dataframe tbody tr th:only-of-type {\n",
       "        vertical-align: middle;\n",
       "    }\n",
       "\n",
       "    .dataframe tbody tr th {\n",
       "        vertical-align: top;\n",
       "    }\n",
       "\n",
       "    .dataframe thead th {\n",
       "        text-align: right;\n",
       "    }\n",
       "</style>\n",
       "<table border=\"1\" class=\"dataframe\">\n",
       "  <thead>\n",
       "    <tr style=\"text-align: right;\">\n",
       "      <th></th>\n",
       "      <th>p1</th>\n",
       "      <th>p2</th>\n",
       "      <th>Euclidean_distance</th>\n",
       "    </tr>\n",
       "  </thead>\n",
       "  <tbody>\n",
       "    <tr>\n",
       "      <th>0</th>\n",
       "      <td>[8, 15]</td>\n",
       "      <td>[7, 6]</td>\n",
       "      <td>9.06</td>\n",
       "    </tr>\n",
       "  </tbody>\n",
       "</table>\n",
       "</div>"
      ],
      "text/plain": [
       "        p1      p2  Euclidean_distance\n",
       "0  [8, 15]  [7, 6]                9.06"
      ]
     },
     "execution_count": 11,
     "metadata": {},
     "output_type": "execute_result"
    }
   ],
   "source": [
    "distance([8,15],[7,6])"
   ]
  },
  {
   "cell_type": "code",
   "execution_count": null,
   "id": "0ef1362a",
   "metadata": {},
   "outputs": [],
   "source": []
  },
  {
   "cell_type": "code",
   "execution_count": null,
   "id": "9d59bb21",
   "metadata": {},
   "outputs": [],
   "source": []
  },
  {
   "cell_type": "code",
   "execution_count": null,
   "id": "bd176d3b",
   "metadata": {},
   "outputs": [],
   "source": []
  },
  {
   "cell_type": "code",
   "execution_count": null,
   "id": "655be452",
   "metadata": {},
   "outputs": [],
   "source": []
  }
 ],
 "metadata": {
  "kernelspec": {
   "display_name": "Python 3 (ipykernel)",
   "language": "python",
   "name": "python3"
  },
  "language_info": {
   "codemirror_mode": {
    "name": "ipython",
    "version": 3
   },
   "file_extension": ".py",
   "mimetype": "text/x-python",
   "name": "python",
   "nbconvert_exporter": "python",
   "pygments_lexer": "ipython3",
   "version": "3.10.1"
  }
 },
 "nbformat": 4,
 "nbformat_minor": 5
}

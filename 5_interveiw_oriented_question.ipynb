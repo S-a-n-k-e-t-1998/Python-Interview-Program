{
 "cells": [
  {
   "cell_type": "markdown",
   "id": "c6fc23e1",
   "metadata": {},
   "source": [
    "#  <font color='red' >1. Python Program to Print Pascals Triangle </font>"
   ]
  },
  {
   "cell_type": "raw",
   "id": "4239f719",
   "metadata": {},
   "source": [
    "N=5\n",
    "output =\n",
    "                1\n",
    "               1 1\n",
    "              1 2 1\n",
    "             1 3 3 1\n",
    "            1 4 6 4 1\n",
    "ncr=n!/(n-r)!*r!\n",
    "icj=i!//(i-j)!*r!\n"
   ]
  },
  {
   "cell_type": "code",
   "execution_count": 64,
   "id": "cc03f214",
   "metadata": {},
   "outputs": [
    {
     "name": "stdout",
     "output_type": "stream",
     "text": [
      "     1 \n",
      "    1 1 \n",
      "   1 2 1 \n",
      "  1 3 3 1 \n",
      " 1 4 6 4 1 \n"
     ]
    }
   ],
   "source": [
    "from math import factorial\n",
    "n=5\n",
    "for i in range(n):\n",
    "    for j in range(i,n):\n",
    "        print('',end=' ')\n",
    "    for j in range(i+1):\n",
    "        print(factorial(i)//(factorial(i-j)*factorial(j)),end=' ')\n",
    "    print()"
   ]
  },
  {
   "cell_type": "markdown",
   "id": "888319c8",
   "metadata": {},
   "source": [
    "# <font color=\"red\">2. Python Program to Find longest Palindrome</font>"
   ]
  },
  {
   "cell_type": "raw",
   "id": "82c4a5fa",
   "metadata": {},
   "source": [
    "data=\"rabcbaeysiisyabbaui\"\n",
    "output=\"ysiisy\""
   ]
  },
  {
   "cell_type": "code",
   "execution_count": 73,
   "id": "3c3f9995",
   "metadata": {},
   "outputs": [
    {
     "data": {
      "text/plain": [
       "'ysiisy'"
      ]
     },
     "execution_count": 73,
     "metadata": {},
     "output_type": "execute_result"
    }
   ],
   "source": [
    "def longest_palindrome(data):\n",
    "    dict1={}\n",
    "    for i in range(len(data)): \n",
    "        for j in range(i,len(data)):\n",
    "            a=data[i:j]\n",
    "#             print(a,end=' ')\n",
    "            b=a[::-1]\n",
    "#             print(b)\n",
    "            if  a==b:\n",
    "                length=len(a)\n",
    "                dict1.update({length:a})\n",
    "    return dict1[max(dict1)]\n",
    "                \n",
    "\n",
    "longest_palindrome(\"rabcbaeysiisyabbaui\")"
   ]
  },
  {
   "cell_type": "markdown",
   "id": "e8a78a52",
   "metadata": {},
   "source": [
    "# <font color='red'>3. Python Program to Find the Count of word occ in string</font>"
   ]
  },
  {
   "cell_type": "raw",
   "id": "fdba0e97",
   "metadata": {},
   "source": [
    "text=\"Python and data science python and data are sensitive\"\n",
    "output= {'and': 2, 'data': 2, 'Python': 1, 'science': 1, 'python': 1, 'are': 1, 'sensitive': 1}"
   ]
  },
  {
   "cell_type": "code",
   "execution_count": 77,
   "id": "6520037d",
   "metadata": {},
   "outputs": [
    {
     "name": "stdout",
     "output_type": "stream",
     "text": [
      "{'Python': 1, 'and': 2, 'data': 2, 'science': 1, 'python': 1, 'are': 1, 'sensitive': 1}\n"
     ]
    }
   ],
   "source": [
    "text=\"Python and data science python and data are sensitive\"\n",
    "list1=text.split()\n",
    "result=dict(map(lambda x:(x,list1.count(x)),list1))\n",
    "print(result)"
   ]
  },
  {
   "cell_type": "code",
   "execution_count": 78,
   "id": "d09f1ce4",
   "metadata": {},
   "outputs": [
    {
     "name": "stdout",
     "output_type": "stream",
     "text": [
      "Counter({'and': 2, 'data': 2, 'Python': 1, 'science': 1, 'python': 1, 'are': 1, 'sensitive': 1})\n"
     ]
    }
   ],
   "source": [
    "from collections import Counter\n",
    "result=Counter(text.split())\n",
    "print(result)"
   ]
  },
  {
   "cell_type": "markdown",
   "id": "efc9b383",
   "metadata": {},
   "source": [
    "# <font color='red'>4. Python Program to convert string of list to list.</font>"
   ]
  },
  {
   "cell_type": "raw",
   "id": "6b0d1544",
   "metadata": {},
   "source": [
    "list1='[\"python\",\"data\"]'"
   ]
  },
  {
   "cell_type": "code",
   "execution_count": 81,
   "id": "89c72ce4",
   "metadata": {},
   "outputs": [
    {
     "name": "stdout",
     "output_type": "stream",
     "text": [
      "['python', 'data'] <class 'list'>\n"
     ]
    }
   ],
   "source": [
    "list1='[\"python\",\"data\"]'\n",
    "import re\n",
    "result=re.findall('[a-z]+',list1)\n",
    "print(result,type(result))"
   ]
  },
  {
   "cell_type": "code",
   "execution_count": 83,
   "id": "f69fafc5",
   "metadata": {},
   "outputs": [
    {
     "name": "stdout",
     "output_type": "stream",
     "text": [
      "['python', 'data'] <class 'list'>\n"
     ]
    }
   ],
   "source": [
    "from ast import literal_eval\n",
    "result==literal_eval(list1)\n",
    "print(result,type(result))"
   ]
  },
  {
   "cell_type": "markdown",
   "id": "47568d20",
   "metadata": {},
   "source": [
    "# <font color='red' >5. Python Progarm to find the output simillar to the following. </font>"
   ]
  },
  {
   "cell_type": "raw",
   "id": "7c5de754",
   "metadata": {},
   "source": [
    "input- 'aabbbccddaabbf'\n",
    "output-'a2b3c2d2a2b2f1'"
   ]
  },
  {
   "cell_type": "code",
   "execution_count": 90,
   "id": "c3f6fd71",
   "metadata": {},
   "outputs": [
    {
     "name": "stdout",
     "output_type": "stream",
     "text": [
      "a2b3c2d2a2b2f1\n"
     ]
    }
   ],
   "source": [
    "import itertools\n",
    "list2=[]\n",
    "for i,j in itertools.groupby(\"aabbbccddaabbf\"):\n",
    "    list1=list(j)\n",
    "    length=len(list1)\n",
    "    list2.extend([list1[0],str(length)])\n",
    "print(''.join(list2))"
   ]
  },
  {
   "cell_type": "code",
   "execution_count": 97,
   "id": "2c624082",
   "metadata": {},
   "outputs": [
    {
     "data": {
      "text/plain": [
       "'a2b3c3d2a2b2f1'"
      ]
     },
     "execution_count": 97,
     "metadata": {},
     "output_type": "execute_result"
    }
   ],
   "source": [
    "''.join([''.join((k[0],str(len(k)))) for k in [list(j) for i,j in itertools.groupby(\"aabbbcccddaabbf\")]])"
   ]
  },
  {
   "cell_type": "code",
   "execution_count": null,
   "id": "a5c41832",
   "metadata": {},
   "outputs": [],
   "source": []
  }
 ],
 "metadata": {
  "kernelspec": {
   "display_name": "Python 3 (ipykernel)",
   "language": "python",
   "name": "python3"
  },
  "language_info": {
   "codemirror_mode": {
    "name": "ipython",
    "version": 3
   },
   "file_extension": ".py",
   "mimetype": "text/x-python",
   "name": "python",
   "nbconvert_exporter": "python",
   "pygments_lexer": "ipython3",
   "version": "3.10.1"
  }
 },
 "nbformat": 4,
 "nbformat_minor": 5
}

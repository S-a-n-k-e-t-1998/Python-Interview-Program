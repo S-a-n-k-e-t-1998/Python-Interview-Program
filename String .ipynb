{
 "cells": [
  {
   "cell_type": "markdown",
   "id": "46847525",
   "metadata": {},
   "source": [
    "# String "
   ]
  },
  {
   "cell_type": "markdown",
   "id": "5948ab26",
   "metadata": {},
   "source": [
    "string is collection of char.\n",
    "string defiend by '' or \" \".\n",
    "string is ordered \n",
    "string allowed duplicates.\n",
    "string is immutable."
   ]
  },
  {
   "cell_type": "code",
   "execution_count": 1,
   "id": "26ccfe40",
   "metadata": {},
   "outputs": [
    {
     "data": {
      "text/plain": [
       "str"
      ]
     },
     "execution_count": 1,
     "metadata": {},
     "output_type": "execute_result"
    }
   ],
   "source": [
    "string='Python and data science1231!@#$%^&* sum'\n",
    "type(string)"
   ]
  },
  {
   "cell_type": "code",
   "execution_count": 2,
   "id": "e926354c",
   "metadata": {},
   "outputs": [],
   "source": [
    "# upper"
   ]
  },
  {
   "cell_type": "code",
   "execution_count": 3,
   "id": "8d7da4cb",
   "metadata": {},
   "outputs": [],
   "source": [
    "string='Python and data science'"
   ]
  },
  {
   "cell_type": "code",
   "execution_count": 4,
   "id": "d4a5a9c0",
   "metadata": {},
   "outputs": [
    {
     "data": {
      "text/plain": [
       "'PYTHON AND DATA SCIENCE'"
      ]
     },
     "execution_count": 4,
     "metadata": {},
     "output_type": "execute_result"
    }
   ],
   "source": [
    "string.upper()"
   ]
  },
  {
   "cell_type": "code",
   "execution_count": 5,
   "id": "ebd6e7de",
   "metadata": {},
   "outputs": [],
   "source": [
    "# lower"
   ]
  },
  {
   "cell_type": "code",
   "execution_count": 6,
   "id": "7a79a10b",
   "metadata": {},
   "outputs": [
    {
     "data": {
      "text/plain": [
       "'python and data science'"
      ]
     },
     "execution_count": 6,
     "metadata": {},
     "output_type": "execute_result"
    }
   ],
   "source": [
    "string.lower()"
   ]
  },
  {
   "cell_type": "code",
   "execution_count": 7,
   "id": "5f9a3f5a",
   "metadata": {},
   "outputs": [
    {
     "data": {
      "text/plain": [
       "'Python and data science'"
      ]
     },
     "execution_count": 7,
     "metadata": {},
     "output_type": "execute_result"
    }
   ],
   "source": [
    "string"
   ]
  },
  {
   "cell_type": "code",
   "execution_count": null,
   "id": "bb34b589",
   "metadata": {},
   "outputs": [],
   "source": [
    "# capitalize"
   ]
  },
  {
   "cell_type": "code",
   "execution_count": 11,
   "id": "05533243",
   "metadata": {},
   "outputs": [
    {
     "data": {
      "text/plain": [
       "'Python and data science'"
      ]
     },
     "execution_count": 11,
     "metadata": {},
     "output_type": "execute_result"
    }
   ],
   "source": [
    "string.lower().capitalize()"
   ]
  },
  {
   "cell_type": "code",
   "execution_count": 12,
   "id": "39e44015",
   "metadata": {},
   "outputs": [],
   "source": [
    "# title"
   ]
  },
  {
   "cell_type": "code",
   "execution_count": 13,
   "id": "054d9202",
   "metadata": {},
   "outputs": [
    {
     "data": {
      "text/plain": [
       "'Python And Data Science'"
      ]
     },
     "execution_count": 13,
     "metadata": {},
     "output_type": "execute_result"
    }
   ],
   "source": [
    "string.title()"
   ]
  },
  {
   "cell_type": "code",
   "execution_count": null,
   "id": "528c36f0",
   "metadata": {},
   "outputs": [],
   "source": [
    "# string.upper() # convert upper case\n",
    "# string.lower() # covert lower case\n",
    "# string.capitalize() # 0 index of string is in capital case\n",
    "# string.title()   # 1st latter of each word converted into captial case"
   ]
  },
  {
   "cell_type": "code",
   "execution_count": null,
   "id": "1aa6b580",
   "metadata": {},
   "outputs": [],
   "source": [
    "# strip - (lstrip and r strip)"
   ]
  },
  {
   "cell_type": "code",
   "execution_count": 15,
   "id": "cf805918",
   "metadata": {},
   "outputs": [],
   "source": [
    "data=\"  Python   \""
   ]
  },
  {
   "cell_type": "code",
   "execution_count": 19,
   "id": "ea2b1746",
   "metadata": {},
   "outputs": [
    {
     "data": {
      "text/plain": [
       "'Python'"
      ]
     },
     "execution_count": 19,
     "metadata": {},
     "output_type": "execute_result"
    }
   ],
   "source": [
    "new=data.strip()\n",
    "new"
   ]
  },
  {
   "cell_type": "code",
   "execution_count": 21,
   "id": "d1d116c6",
   "metadata": {},
   "outputs": [
    {
     "data": {
      "text/plain": [
       "'Python   '"
      ]
     },
     "execution_count": 21,
     "metadata": {},
     "output_type": "execute_result"
    }
   ],
   "source": [
    "data.lstrip()"
   ]
  },
  {
   "cell_type": "code",
   "execution_count": 22,
   "id": "01152be0",
   "metadata": {},
   "outputs": [
    {
     "data": {
      "text/plain": [
       "'  Python'"
      ]
     },
     "execution_count": 22,
     "metadata": {},
     "output_type": "execute_result"
    }
   ],
   "source": [
    "data.rstrip()"
   ]
  },
  {
   "cell_type": "code",
   "execution_count": 23,
   "id": "857c6807",
   "metadata": {},
   "outputs": [],
   "source": [
    "# swapcase"
   ]
  },
  {
   "cell_type": "code",
   "execution_count": 24,
   "id": "0d74c19d",
   "metadata": {},
   "outputs": [
    {
     "data": {
      "text/plain": [
       "'  Python   '"
      ]
     },
     "execution_count": 24,
     "metadata": {},
     "output_type": "execute_result"
    }
   ],
   "source": [
    "data"
   ]
  },
  {
   "cell_type": "code",
   "execution_count": 25,
   "id": "af787c2f",
   "metadata": {},
   "outputs": [
    {
     "data": {
      "text/plain": [
       "'  pYTHON   '"
      ]
     },
     "execution_count": 25,
     "metadata": {},
     "output_type": "execute_result"
    }
   ],
   "source": [
    "data.swapcase()"
   ]
  },
  {
   "cell_type": "code",
   "execution_count": 26,
   "id": "fa6964e9",
   "metadata": {},
   "outputs": [],
   "source": [
    "# s >> c , c>>s"
   ]
  },
  {
   "cell_type": "code",
   "execution_count": 27,
   "id": "0075a60d",
   "metadata": {},
   "outputs": [
    {
     "data": {
      "text/plain": [
       "['P', 'y', 't', 'h', 'o', 'n']"
      ]
     },
     "execution_count": 27,
     "metadata": {},
     "output_type": "execute_result"
    }
   ],
   "source": [
    "new='Python'\n",
    "list(new)"
   ]
  },
  {
   "cell_type": "code",
   "execution_count": 36,
   "id": "5d54d442",
   "metadata": {},
   "outputs": [],
   "source": [
    "new=\"Python and data science\"\n",
    "sample=new.split(sep=' ')"
   ]
  },
  {
   "cell_type": "code",
   "execution_count": 37,
   "id": "e15a0bf2",
   "metadata": {},
   "outputs": [
    {
     "data": {
      "text/plain": [
       "['Python', 'and', 'data', 'science']"
      ]
     },
     "execution_count": 37,
     "metadata": {},
     "output_type": "execute_result"
    }
   ],
   "source": [
    "sample"
   ]
  },
  {
   "cell_type": "code",
   "execution_count": 39,
   "id": "cdd0df87",
   "metadata": {},
   "outputs": [
    {
     "data": {
      "text/plain": [
       "'Python and data science'"
      ]
     },
     "execution_count": 39,
     "metadata": {},
     "output_type": "execute_result"
    }
   ],
   "source": [
    "' '.join(sample)"
   ]
  },
  {
   "cell_type": "code",
   "execution_count": 40,
   "id": "5c43b3ed",
   "metadata": {},
   "outputs": [],
   "source": [
    "list1=[\"A\",\"B\",\"C\"]"
   ]
  },
  {
   "cell_type": "code",
   "execution_count": 41,
   "id": "2fdaa8b5",
   "metadata": {},
   "outputs": [
    {
     "data": {
      "text/plain": [
       "list"
      ]
     },
     "execution_count": 41,
     "metadata": {},
     "output_type": "execute_result"
    }
   ],
   "source": [
    "type(list1)"
   ]
  },
  {
   "cell_type": "code",
   "execution_count": 43,
   "id": "4ea78450",
   "metadata": {},
   "outputs": [
    {
     "data": {
      "text/plain": [
       "'A B C'"
      ]
     },
     "execution_count": 43,
     "metadata": {},
     "output_type": "execute_result"
    }
   ],
   "source": [
    "' '.join(list1)"
   ]
  },
  {
   "cell_type": "code",
   "execution_count": 44,
   "id": "0b24267e",
   "metadata": {},
   "outputs": [],
   "source": [
    "# replace"
   ]
  },
  {
   "cell_type": "code",
   "execution_count": 45,
   "id": "302efa11",
   "metadata": {},
   "outputs": [],
   "source": [
    "string='Python and daa science'"
   ]
  },
  {
   "cell_type": "code",
   "execution_count": 46,
   "id": "00765380",
   "metadata": {},
   "outputs": [
    {
     "data": {
      "text/plain": [
       "'Python and daa science'"
      ]
     },
     "execution_count": 46,
     "metadata": {},
     "output_type": "execute_result"
    }
   ],
   "source": [
    "string"
   ]
  },
  {
   "cell_type": "code",
   "execution_count": 47,
   "id": "4da9bccf",
   "metadata": {},
   "outputs": [
    {
     "data": {
      "text/plain": [
       "'Python and data science'"
      ]
     },
     "execution_count": 47,
     "metadata": {},
     "output_type": "execute_result"
    }
   ],
   "source": [
    "string.replace(\"daa\",\"data\")"
   ]
  },
  {
   "cell_type": "code",
   "execution_count": 49,
   "id": "5bf748e7",
   "metadata": {},
   "outputs": [
    {
     "data": {
      "text/plain": [
       "'Python ind daa science'"
      ]
     },
     "execution_count": 49,
     "metadata": {},
     "output_type": "execute_result"
    }
   ],
   "source": [
    "string.replace(\"a\",\"i\",1)"
   ]
  },
  {
   "cell_type": "code",
   "execution_count": 50,
   "id": "7f57e32f",
   "metadata": {},
   "outputs": [],
   "source": [
    "# count"
   ]
  },
  {
   "cell_type": "code",
   "execution_count": 57,
   "id": "1b7926f7",
   "metadata": {},
   "outputs": [
    {
     "data": {
      "text/plain": [
       "1"
      ]
     },
     "execution_count": 57,
     "metadata": {},
     "output_type": "execute_result"
    }
   ],
   "source": [
    "string.count(\"a\",0,10)"
   ]
  },
  {
   "cell_type": "code",
   "execution_count": 63,
   "id": "2762f697",
   "metadata": {},
   "outputs": [
    {
     "name": "stdout",
     "output_type": "stream",
     "text": [
      "0 P 1 y 2 t 3 h 4 o 5 n 6   7 a 8 n 9 d 10   11 d 12 a 13 a 14   15 s 16 c 17 i 18 e 19 n 20 c 21 e "
     ]
    }
   ],
   "source": [
    "for i in range(len(string)):\n",
    "    print(i,end=' ')\n",
    "    print(string[i],end=' ')"
   ]
  },
  {
   "cell_type": "code",
   "execution_count": 68,
   "id": "e179659f",
   "metadata": {},
   "outputs": [
    {
     "data": {
      "text/plain": [
       "'Pytho'"
      ]
     },
     "execution_count": 68,
     "metadata": {},
     "output_type": "execute_result"
    }
   ],
   "source": [
    "string[0:5] "
   ]
  },
  {
   "cell_type": "code",
   "execution_count": 69,
   "id": "907369e7",
   "metadata": {},
   "outputs": [],
   "source": [
    "# index"
   ]
  },
  {
   "cell_type": "code",
   "execution_count": 71,
   "id": "7132defc",
   "metadata": {},
   "outputs": [
    {
     "data": {
      "text/plain": [
       "'Python and daa science'"
      ]
     },
     "execution_count": 71,
     "metadata": {},
     "output_type": "execute_result"
    }
   ],
   "source": [
    "string"
   ]
  },
  {
   "cell_type": "code",
   "execution_count": 74,
   "id": "ad4ba332",
   "metadata": {},
   "outputs": [
    {
     "ename": "ValueError",
     "evalue": "substring not found",
     "output_type": "error",
     "traceback": [
      "\u001b[1;31m---------------------------------------------------------------------------\u001b[0m",
      "\u001b[1;31mValueError\u001b[0m                                Traceback (most recent call last)",
      "\u001b[1;32m~\\AppData\\Local\\Temp/ipykernel_57548/3450266248.py\u001b[0m in \u001b[0;36m<module>\u001b[1;34m\u001b[0m\n\u001b[1;32m----> 1\u001b[1;33m \u001b[0mstring\u001b[0m\u001b[1;33m.\u001b[0m\u001b[0mindex\u001b[0m\u001b[1;33m(\u001b[0m\u001b[1;34m\"z\"\u001b[0m\u001b[1;33m)\u001b[0m  \u001b[1;31m# 1st occ index\u001b[0m\u001b[1;33m\u001b[0m\u001b[1;33m\u001b[0m\u001b[0m\n\u001b[0m",
      "\u001b[1;31mValueError\u001b[0m: substring not found"
     ]
    }
   ],
   "source": [
    "string.index(\"z\")  # 1st occ index "
   ]
  },
  {
   "cell_type": "code",
   "execution_count": 73,
   "id": "e010be45",
   "metadata": {},
   "outputs": [
    {
     "data": {
      "text/plain": [
       "-1"
      ]
     },
     "execution_count": 73,
     "metadata": {},
     "output_type": "execute_result"
    }
   ],
   "source": [
    "string.find(\"z\")"
   ]
  },
  {
   "cell_type": "code",
   "execution_count": 78,
   "id": "8ce5456c",
   "metadata": {},
   "outputs": [
    {
     "data": {
      "text/plain": [
       "False"
      ]
     },
     "execution_count": 78,
     "metadata": {},
     "output_type": "execute_result"
    }
   ],
   "source": [
    "string=\"sample\"\n",
    "string.endswith(\"a\")"
   ]
  },
  {
   "cell_type": "code",
   "execution_count": 82,
   "id": "a371b9c2",
   "metadata": {},
   "outputs": [
    {
     "data": {
      "text/plain": [
       "True"
      ]
     },
     "execution_count": 82,
     "metadata": {},
     "output_type": "execute_result"
    }
   ],
   "source": [
    "string=\"sample\"\n",
    "string.startswith(\"s\")"
   ]
  },
  {
   "cell_type": "code",
   "execution_count": 86,
   "id": "eece77d4",
   "metadata": {},
   "outputs": [
    {
     "data": {
      "text/plain": [
       "True"
      ]
     },
     "execution_count": 86,
     "metadata": {},
     "output_type": "execute_result"
    }
   ],
   "source": [
    "string=\"python123\"\n",
    "string.isalnum()"
   ]
  },
  {
   "cell_type": "code",
   "execution_count": 91,
   "id": "82054578",
   "metadata": {},
   "outputs": [
    {
     "data": {
      "text/plain": [
       "True"
      ]
     },
     "execution_count": 91,
     "metadata": {},
     "output_type": "execute_result"
    }
   ],
   "source": [
    "string=\"pythonsample\"\n",
    "string.isalpha()"
   ]
  },
  {
   "cell_type": "code",
   "execution_count": 93,
   "id": "433f3ce7",
   "metadata": {},
   "outputs": [],
   "source": []
  },
  {
   "cell_type": "code",
   "execution_count": 104,
   "id": "818aaa98",
   "metadata": {},
   "outputs": [
    {
     "data": {
      "text/plain": [
       "False"
      ]
     },
     "execution_count": 104,
     "metadata": {},
     "output_type": "execute_result"
    }
   ],
   "source": [
    "string='12345asc@'\n",
    "string.isnumeric()"
   ]
  },
  {
   "cell_type": "code",
   "execution_count": 105,
   "id": "bc5b1594",
   "metadata": {},
   "outputs": [],
   "source": [
    "# string.isdigit()\n",
    "# string.isnumeric()\n",
    "# string.isdecimal()"
   ]
  },
  {
   "cell_type": "code",
   "execution_count": 108,
   "id": "cc5e35a2",
   "metadata": {},
   "outputs": [],
   "source": [
    "string=\"Python\""
   ]
  },
  {
   "cell_type": "code",
   "execution_count": 109,
   "id": "61d0a19b",
   "metadata": {},
   "outputs": [
    {
     "data": {
      "text/plain": [
       "False"
      ]
     },
     "execution_count": 109,
     "metadata": {},
     "output_type": "execute_result"
    }
   ],
   "source": [
    "string.islower()"
   ]
  },
  {
   "cell_type": "code",
   "execution_count": 115,
   "id": "28501f2b",
   "metadata": {},
   "outputs": [
    {
     "data": {
      "text/plain": [
       "True"
      ]
     },
     "execution_count": 115,
     "metadata": {},
     "output_type": "execute_result"
    }
   ],
   "source": [
    "string=\"PYTHON DATA 123\"\n",
    "string.isupper()"
   ]
  },
  {
   "cell_type": "code",
   "execution_count": 117,
   "id": "70741e6b",
   "metadata": {},
   "outputs": [
    {
     "data": {
      "text/plain": [
       "False"
      ]
     },
     "execution_count": 117,
     "metadata": {},
     "output_type": "execute_result"
    }
   ],
   "source": [
    "string='   a  '\n",
    "string.isspace()"
   ]
  },
  {
   "cell_type": "code",
   "execution_count": 120,
   "id": "4eef1536",
   "metadata": {},
   "outputs": [
    {
     "data": {
      "text/plain": [
       "10"
      ]
     },
     "execution_count": 120,
     "metadata": {},
     "output_type": "execute_result"
    }
   ],
   "source": [
    "string='123'\n",
    "len(string.zfill(10))"
   ]
  },
  {
   "cell_type": "code",
   "execution_count": 121,
   "id": "c0c6c454",
   "metadata": {},
   "outputs": [
    {
     "data": {
      "text/plain": [
       "'0000000123'"
      ]
     },
     "execution_count": 121,
     "metadata": {},
     "output_type": "execute_result"
    }
   ],
   "source": [
    "string.zfill(10)"
   ]
  },
  {
   "cell_type": "code",
   "execution_count": 128,
   "id": "92c30423",
   "metadata": {},
   "outputs": [
    {
     "data": {
      "text/plain": [
       "'     python    '"
      ]
     },
     "execution_count": 128,
     "metadata": {},
     "output_type": "execute_result"
    }
   ],
   "source": [
    "string='python'\n",
    "string.center(15)"
   ]
  },
  {
   "cell_type": "code",
   "execution_count": null,
   "id": "3bcfd10b",
   "metadata": {},
   "outputs": [],
   "source": []
  },
  {
   "cell_type": "code",
   "execution_count": null,
   "id": "f9909810",
   "metadata": {},
   "outputs": [],
   "source": [
    "# upper()\n",
    "# lower()\n",
    "# capitalize()\n",
    "# title()\n",
    "# strip()\n",
    "# lstrip()\n",
    "# rstrip()\n",
    "# swapcase()\n",
    "# replace()\n",
    "# count()\n",
    "# find()\n",
    "# index()\n",
    "# startswith()\n",
    "# endswith()\n",
    "# isalnum()\n",
    "# isalpha()\n",
    "# isdecimal()\n",
    "# isdigit()\n",
    "# isnumeric()\n",
    "# isupper()\n",
    "# islower()\n",
    "# isspace()\n",
    "# zfill()\n",
    "# center()\n",
    "# ' '.join()\n",
    "# split()"
   ]
  },
  {
   "cell_type": "code",
   "execution_count": 129,
   "id": "cf702243",
   "metadata": {},
   "outputs": [],
   "source": [
    "string1=\"python\"\n",
    "string2=\"data\""
   ]
  },
  {
   "cell_type": "code",
   "execution_count": 132,
   "id": "f45c4d76",
   "metadata": {},
   "outputs": [],
   "source": [
    "string=string1+' '+string2"
   ]
  },
  {
   "cell_type": "code",
   "execution_count": 133,
   "id": "d2bdc6e4",
   "metadata": {},
   "outputs": [
    {
     "data": {
      "text/plain": [
       "'python data'"
      ]
     },
     "execution_count": 133,
     "metadata": {},
     "output_type": "execute_result"
    }
   ],
   "source": [
    "string"
   ]
  },
  {
   "cell_type": "code",
   "execution_count": 134,
   "id": "983c4c7b",
   "metadata": {},
   "outputs": [
    {
     "data": {
      "text/plain": [
       "'pythonpythonpythonpythonpythonpythonpythonpythonpythonpython'"
      ]
     },
     "execution_count": 134,
     "metadata": {},
     "output_type": "execute_result"
    }
   ],
   "source": [
    "string1*10"
   ]
  },
  {
   "cell_type": "code",
   "execution_count": 136,
   "id": "aa876d05",
   "metadata": {},
   "outputs": [
    {
     "data": {
      "text/plain": [
       "'****************************************************************************************************'"
      ]
     },
     "execution_count": 136,
     "metadata": {},
     "output_type": "execute_result"
    }
   ],
   "source": [
    "'*'*100"
   ]
  },
  {
   "cell_type": "markdown",
   "id": "fc3131b0",
   "metadata": {},
   "source": [
    "# imp interveiw problem"
   ]
  },
  {
   "cell_type": "code",
   "execution_count": 137,
   "id": "a9cdf8cd",
   "metadata": {},
   "outputs": [],
   "source": [
    "from math import factorial"
   ]
  },
  {
   "cell_type": "code",
   "execution_count": 138,
   "id": "a0c7d19c",
   "metadata": {},
   "outputs": [
    {
     "name": "stdout",
     "output_type": "stream",
     "text": [
      "     1 \n",
      "    1 1 \n",
      "   1 2 1 \n",
      "  1 3 3 1 \n",
      " 1 4 6 4 1 \n"
     ]
    }
   ],
   "source": [
    "n=5\n",
    "for i in range(n):\n",
    "    for j in range(i,n):\n",
    "        print(' ',end='')\n",
    "    for j in range(i+1):\n",
    "        print(factorial(i)//(factorial(i-j)*factorial(j)),end=' ')\n",
    "    print()"
   ]
  },
  {
   "cell_type": "code",
   "execution_count": 139,
   "id": "7a0a6aea",
   "metadata": {},
   "outputs": [],
   "source": [
    "import itertools"
   ]
  },
  {
   "cell_type": "code",
   "execution_count": null,
   "id": "f577e1fa",
   "metadata": {},
   "outputs": [],
   "source": [
    "# input- 'aabbbccddaabbf'\n",
    "# output-'a2b3c2d2a2b2f1'"
   ]
  },
  {
   "cell_type": "code",
   "execution_count": 140,
   "id": "f05eb1bc",
   "metadata": {},
   "outputs": [
    {
     "data": {
      "text/plain": [
       "'a2b3c2d2a2b2f1'"
      ]
     },
     "execution_count": 140,
     "metadata": {},
     "output_type": "execute_result"
    }
   ],
   "source": [
    "arr='aabbbccddaabbf'\n",
    "''.join([''.join((j[0],str(len(j)))) for j in [list(g) for k,g in itertools.groupby(arr)]])"
   ]
  },
  {
   "cell_type": "code",
   "execution_count": 141,
   "id": "d3672e32",
   "metadata": {},
   "outputs": [],
   "source": [
    "from ast import literal_eval"
   ]
  },
  {
   "cell_type": "code",
   "execution_count": 142,
   "id": "1e9dfaa1",
   "metadata": {},
   "outputs": [
    {
     "data": {
      "text/plain": [
       "['python', 'data']"
      ]
     },
     "execution_count": 142,
     "metadata": {},
     "output_type": "execute_result"
    }
   ],
   "source": [
    "list1='[\"python\",\"data\"]'\n",
    "literal_eval(list1)"
   ]
  },
  {
   "cell_type": "code",
   "execution_count": 143,
   "id": "8dcea9d3",
   "metadata": {},
   "outputs": [],
   "source": [
    "from collections import Counter"
   ]
  },
  {
   "cell_type": "code",
   "execution_count": 149,
   "id": "c99cea36",
   "metadata": {},
   "outputs": [
    {
     "name": "stdout",
     "output_type": "stream",
     "text": [
      "Counter({'and': 2, 'data': 2, 'Python': 1, 'science': 1, 'python': 1, 'are': 1, 'sensitive': 1})\n"
     ]
    }
   ],
   "source": [
    "text=\"Python and data science python and data are sensitive\"\n",
    "print(Counter(text.split()))"
   ]
  },
  {
   "cell_type": "code",
   "execution_count": 151,
   "id": "318acfb3",
   "metadata": {},
   "outputs": [
    {
     "data": {
      "text/plain": [
       "{'Python': 1,\n",
       " 'and': 2,\n",
       " 'data': 2,\n",
       " 'science': 1,\n",
       " 'python': 1,\n",
       " 'are': 1,\n",
       " 'sensitive': 1}"
      ]
     },
     "execution_count": 151,
     "metadata": {},
     "output_type": "execute_result"
    }
   ],
   "source": [
    "text=text.split()\n",
    "dict(map(lambda x:(x,text.count(x)),text))"
   ]
  },
  {
   "cell_type": "code",
   "execution_count": 3,
   "id": "af4be608",
   "metadata": {},
   "outputs": [],
   "source": [
    "string=\"rabcbaeysiisyabbaui\"\n",
    "def longestPalindrome(string):\n",
    "    dict1={}\n",
    "    for i in range(len(string)):\n",
    "        for j in range(i,len(string)):\n",
    "            s1=string[i:j]\n",
    "            s2=''.join(reversed(s1))\n",
    "            if s1==s2:\n",
    "    #             print(s1)\n",
    "                length=len(s1)\n",
    "                dict1.update({length:s1})\n",
    "    return f\"The largest palindrome in string is ::: {dict1[max(dict1)]}\""
   ]
  },
  {
   "cell_type": "code",
   "execution_count": 4,
   "id": "719eb03a",
   "metadata": {},
   "outputs": [
    {
     "data": {
      "text/plain": [
       "'The largest palindrome in string is ::: ysiisy'"
      ]
     },
     "execution_count": 4,
     "metadata": {},
     "output_type": "execute_result"
    }
   ],
   "source": [
    "longestPalindrome(string)"
   ]
  },
  {
   "cell_type": "code",
   "execution_count": 9,
   "id": "512d6bd5",
   "metadata": {},
   "outputs": [],
   "source": [
    "dict1={6:\"sank\",80:\"jhk\",78:\"sk\"}"
   ]
  },
  {
   "cell_type": "code",
   "execution_count": 10,
   "id": "c78cb768",
   "metadata": {},
   "outputs": [
    {
     "data": {
      "text/plain": [
       "80"
      ]
     },
     "execution_count": 10,
     "metadata": {},
     "output_type": "execute_result"
    }
   ],
   "source": [
    "max(dict1)"
   ]
  },
  {
   "cell_type": "code",
   "execution_count": null,
   "id": "21a919f2",
   "metadata": {},
   "outputs": [],
   "source": [
    "from sklearn.cluster import KMeans\n",
    "from sklearn.naive_bayes import MultinomialNB,BernoulliNB,GaussianNB\n",
    "from sklearn.svm import SVC,SVR\n",
    "from sklearn.tree import DecisionTreeClassifier,DecisionTreeRegressor\n",
    "from sklearn.ensemble import RandomForestClassifier,RandomForestRegressor,AdaBoostClassifier,\n",
    "AdaBoostRegressor,GradientBoostingClassifier,GradientBoostingRegressor\n",
    "from sklearn.neighbors import KNeighborsRegressor,KNeighborsClassifier\n",
    "from sklearn.linear_model import LinearRegression,LogisticRegression,Lasso,RidgeClassifier,Ridge\n",
    "\n",
    "from sklearn.impute import SimpleImputer,KNNImputer,IterativeImputer\n",
    "\n",
    "from sklearn.preprocessing import StandardScaler,MinMaxScaler,MaxAbsScaler,RobustScaler\n",
    "\n",
    "from sklearn.metrics import mean_squared_error,mean_absolute_error,r2_score,accuracy_score,confusion_matrix,classification_report,roc_curve,plot_confusion_matrix\n",
    "\n",
    "from sklearn.model_selection import train_test_split,GridSearchCV,RandomizedSearchCV\n",
    "\n",
    "from sklearn.feature_selection import f_classif,chi2,SelectKBest,SequentialFeatureSelector,VarianceThreshold,mutual_info_classif,mutual_info_regression\n",
    "from skfeature.function.similarity_based import fisher_score\n",
    "\n",
    "from sklearn.datasets\n",
    "\n",
    "from scipy.stats import normaltest,kstest,shapiro\n",
    "\n"
   ]
  }
 ],
 "metadata": {
  "kernelspec": {
   "display_name": "Python 3 (ipykernel)",
   "language": "python",
   "name": "python3"
  },
  "language_info": {
   "codemirror_mode": {
    "name": "ipython",
    "version": 3
   },
   "file_extension": ".py",
   "mimetype": "text/x-python",
   "name": "python",
   "nbconvert_exporter": "python",
   "pygments_lexer": "ipython3",
   "version": "3.10.1"
  }
 },
 "nbformat": 4,
 "nbformat_minor": 5
}
